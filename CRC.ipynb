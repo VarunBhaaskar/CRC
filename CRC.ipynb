{
  "nbformat": 4,
  "nbformat_minor": 0,
  "metadata": {
    "colab": {
      "name": "CRC.ipynb",
      "version": "0.3.2",
      "provenance": [],
      "collapsed_sections": [],
      "include_colab_link": true
    },
    "kernelspec": {
      "name": "python3",
      "display_name": "Python 3"
    }
  },
  "cells": [
    {
      "cell_type": "markdown",
      "metadata": {
        "id": "view-in-github",
        "colab_type": "text"
      },
      "source": [
        "<a href=\"https://colab.research.google.com/github/VarunBhaaskar/CRC/blob/master/CRC.ipynb\" target=\"_parent\"><img src=\"https://colab.research.google.com/assets/colab-badge.svg\" alt=\"Open In Colab\"/></a>"
      ]
    },
    {
      "cell_type": "code",
      "metadata": {
        "id": "CgMYLTxB--X-",
        "colab_type": "code",
        "colab": {}
      },
      "source": [
        "def xor(a,b):\n",
        "    c=[]\n",
        "    for i in range(len(a)):\n",
        "        if(a[i] != b[i]):\n",
        "            c.append(1)\n",
        "        else:\n",
        "            c.append(0)\n",
        "    return c\n"
      ],
      "execution_count": 0,
      "outputs": []
    },
    {
      "cell_type": "code",
      "metadata": {
        "id": "6MpVzntx_rin",
        "colab_type": "code",
        "colab": {}
      },
      "source": [
        "def mul(a,divisor):\n",
        "    b=[]\n",
        "    for i in range(len(divisor)):\n",
        "        b.append(a*divisor[i])\n",
        "    return b"
      ],
      "execution_count": 0,
      "outputs": []
    },
    {
      "cell_type": "code",
      "metadata": {
        "id": "hWBh3PUEa8e-",
        "colab_type": "code",
        "colab": {}
      },
      "source": [
        "def codewordGenerator(data,divisor):\n",
        "  \n",
        "    div1=[]\n",
        "    print(\"inside fn: \", data,len(data))\n",
        "    n1 = len(data)\n",
        "    n2=len(divisor)\n",
        "    for i in range (n2):\n",
        "        m = data[i]\n",
        "        div1.append(m)\n",
        "    print(\"div1 is: \",div1)\n",
        "    for i in range (4):\n",
        "      print(i,data[0])\n",
        "      del data[0]\n",
        "      \n",
        "    print(\"new data infn: \",data)\n",
        "    if(div1[0]==0):\n",
        "        b=mul(0,divisor)\n",
        "    else:\n",
        "        b=mul(1,divisor)\n",
        "    print(\"b is: \",b)\n",
        "    rem=xor(div1,b)\n",
        "    del rem[0]\n",
        "    \n",
        "    print(\"remainder is: \",rem)\n",
        "    newData = rem + data\n",
        "    print(\"new data is: \",newData)\n",
        "    if(len(newData) >= len(divisor)):\n",
        "        return   codewordGenerator(newData,divisor)\n",
        "    else:\n",
        "        return rem\n",
        "        "
      ],
      "execution_count": 0,
      "outputs": []
    },
    {
      "cell_type": "code",
      "metadata": {
        "id": "fFMjp-KzbDEJ",
        "colab_type": "code",
        "colab": {}
      },
      "source": [
        "x = int(input(\"Enter the divisor length: \"))\n",
        "\n",
        "divisor=[]\n",
        "data=[]\n",
        "for i in range(x) :\n",
        "    print(\"enter divisor bit no\",i+1)\n",
        "    x= int(input(\": \"))\n",
        "    divisor.append(x)\n",
        "print(\"Divisor is: \",tuple(divisor))\n",
        "y = int(input(\"Enter the data length: \"))\n",
        "for j in range(y):\n",
        "    print(\"Data bit no\",j+1)\n",
        "    x = int(input(\": \"))\n",
        "    data.append(x)\n",
        "print(\"Data is \",tuple(data))\n",
        "n2=len(divisor)\n",
        "n1=len(data)\n",
        "data1=[]\n",
        "for i in range(n1):\n",
        "    data1.append(data[i])\n",
        "for i in range(n2-1):\n",
        "    data1.append(0)\n",
        "print(\"append is: \",data1,data)"
      ],
      "execution_count": 0,
      "outputs": []
    },
    {
      "cell_type": "code",
      "metadata": {
        "id": "KrUHVK7Sd5p0",
        "colab_type": "code",
        "colab": {}
      },
      "source": [
        "\n",
        "addCode=codewordGenerator(data1,divisor)\n",
        "print(\"addcode is: \",addCode, data)\n",
        "finalData=[]\n",
        "for i in range(n1):\n",
        "    finalData.append(data[i])\n",
        "print(\"final data is: \",finalData)\n",
        "codeWord = finalData+addCode\n",
        "print(\"codeword is\",codeWord)"
      ],
      "execution_count": 0,
      "outputs": []
    }
  ]
}